{
  "nbformat": 4,
  "nbformat_minor": 0,
  "metadata": {
    "colab": {
      "name": "productSenseProblems.ipynb",
      "provenance": []
    },
    "kernelspec": {
      "name": "python3",
      "display_name": "Python 3"
    },
    "language_info": {
      "name": "python"
    }
  },
  "cells": [
    {
      "cell_type": "code",
      "metadata": {
        "id": "UTZ-S4hjmlLF"
      },
      "source": [
        ""
      ],
      "execution_count": null,
      "outputs": []
    },
    {
      "cell_type": "code",
      "metadata": {
        "id": "tI6Ngkvsma7_"
      },
      "source": [
        ""
      ],
      "execution_count": null,
      "outputs": []
    },
    {
      "cell_type": "markdown",
      "metadata": {
        "id": "W1t9P4WlmeA4"
      },
      "source": [
        "Key Considerations for Product Data Science\n",
        "\n",
        "- most critical skill of a data scientist (DS): ability to define the right metrics for measuring the success of a product\n",
        "  - Product Analytics Data Scientist position w/ particular emphasis\n",
        "  - Regardless of the role’s emphasis / track, business case questions are nearly always asked during both the technical phone screen (TPS) and the onsite interview.\n",
        "\n",
        "- “If you cannot measure it, you cannot improve it.”\n",
        "- companies wish to identify candidates who have strong product sense and are able to help stakeholders make data-informed decisions\n",
        "- metrics are indeed the most important component of business case interviews for data scientists\n",
        "\n",
        "\n",
        "\n",
        "What are product sense problems?\n",
        "\n",
        "*   Product sense problem == business case problems == metric problems \n",
        "*   List item\n",
        "\n",
        "What are companies loooking for?\n",
        "\n",
        "3 Categories of Questions & Frameworks:\n",
        "- Diagnose a problem\n",
        "- Measure success\n",
        "- Launch or not\n",
        "\n",
        "Interview Tips\n",
        "- Structure in the form of a systematic approach to answers: intro, points, summary\n",
        "- Comprehensiveness: Cover most critical aspects of the problem asked\n",
        "- Feasibility\n",
        "- Responsiveness to Feedback\n",
        "\n",
        "Interviewer Point of View\n",
        "- Consider whether interviewr is individual contributor (IC), manager, or cross-functional partner, there will be different expectations.\n",
        "- Roles\n",
        "  - Data Scientists (ICs): Will typically put more emphasis on technical expertise, such as how to select the right metrics, technical details on hypothesis testing, and dealing with pitfalls in experimentation.\n",
        "  - Data Science Managers: Will typically evaluate candidates’ ability to drive decision-making processes and deliver effective verbal and written communication.\n",
        "  - Product Managers: Will typically value the ability to think practically and strategically about the bigger picture, including how to improve open-ended product and business problems.\n",
        "\n",
        "PRODUCT DEV LIFECYCLE\n",
        "- Generating initial ideas\n",
        "- Selecting ideas\n",
        "  - Quantitative analysis to select a subset of ideas to which to devote resources, often referred to as opportunity sizing.\n",
        "- Experiment design \n",
        "  - Involved with selecting success and guardrail metrics, running sanity checks, choosing randomization units, etc.\n",
        "  - Candidates will need to consider alternatives when it is not possible to run A/B tests.\n",
        "- Making a launch decision\n",
        "  - Making scientific decisions based on experimentation results.\n",
        "  - Diagnosing problems and evaluating tradeoffs.\n",
        "\n",
        "  https://towardsdatascience.com/the-ultimate-guide-to-cracking-business-case-interviews-for-data-scientists-part-1-cb768c37edf4"
      ]
    }
  ]
}